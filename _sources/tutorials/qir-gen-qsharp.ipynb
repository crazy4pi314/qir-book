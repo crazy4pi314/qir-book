{
 "cells": [
  {
   "cell_type": "markdown",
   "metadata": {},
   "source": [
    "# QIR generation with Q\\#\n",
    "\n",
    "_Tutorials are narrated examples of using QIR as a part of some workflow or with a particular set of tools._\n",
    "\n",
    "- using the `%qir` magic command in notebooks: https://docs.microsoft.com/en-us/qsharp/api/iqsharp-magic/qir\n",
    "- use the project file flag to specify QIR compilation of a Q# program: https://github.com/microsoft/qsharp-compiler/tree/main/src/QsCompiler/QirGeneration"
   ]
  },
  {
   "cell_type": "markdown",
   "metadata": {},
   "source": []
  }
 ],
 "metadata": {
  "kernelspec": {
   "display_name": "Python 3",
   "language": "python",
   "name": "python3"
  },
  "language_info": {
   "codemirror_mode": {
    "name": "ipython",
    "version": 3
   },
   "file_extension": ".py",
   "mimetype": "text/x-python",
   "name": "python",
   "nbconvert_exporter": "python",
   "pygments_lexer": "ipython3",
   "version": "3.8.0"
  },
  "widgets": {
   "application/vnd.jupyter.widget-state+json": {
    "state": {},
    "version_major": 2,
    "version_minor": 0
   }
  }
 },
 "nbformat": 4,
 "nbformat_minor": 4
}
