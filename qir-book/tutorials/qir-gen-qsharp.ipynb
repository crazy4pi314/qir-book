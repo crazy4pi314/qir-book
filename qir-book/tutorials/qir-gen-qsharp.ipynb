{
 "cells": [
  {
   "cell_type": "markdown",
   "metadata": {},
   "source": [
    "# QIR generation with Q\\#\n",
    "\n",
    "_Tutorials are narrated examples of using QIR as a part of some workflow or with a particular set of tools._\n",
    "\n",
    "- using the `%qir` magic command in notebooks: https://docs.microsoft.com/en-us/qsharp/api/iqsharp-magic/qir\n",
    "- use the project file flag to specify QIR compilation of a Q# program: https://github.com/microsoft/qsharp-compiler/tree/main/src/QsCompiler/QirGeneration"
   ]
  },
  {
   "cell_type": "markdown",
   "metadata": {},
   "source": [
    "operation MeasureOneQubit() : Result {\n",
    "    // Allocate a qubit, by default it is in zero state      \n",
    "    use q = Qubit();  \n",
    "    // We apply a Hadamard operation H to the state\n",
    "    // It now has a 50% chance of being measured 0 or 1  \n",
    "    H(q);      \n",
    "    // Now we measure the qubit in Z-basis.\n",
    "    let result = M(qubit);\n",
    "    // We reset the qubit before releasing it.\n",
    "    if result == One { X(qubit); }\n",
    "    // Finally, we return the result of the measurement.\n",
    "    return result;\n",
    "    \n",
    "}"
   ]
  },
  {
   "cell_type": "code",
   "execution_count": null,
   "metadata": {},
   "outputs": [],
   "source": [
    "%qir MeasureOneQubit"
   ]
  }
 ],
 "metadata": {
  "kernelspec": {
   "display_name": "Python 3.10.5 64-bit",
   "language": "python",
   "name": "python3"
  },
  "language_info": {
   "codemirror_mode": {
    "name": "ipython",
    "version": 3
   },
   "file_extension": ".py",
   "mimetype": "text/x-python",
   "name": "python",
   "nbconvert_exporter": "python",
   "pygments_lexer": "ipython3",
   "version": "3.10.5"
  },
  "vscode": {
   "interpreter": {
    "hash": "369f2c481f4da34e4445cda3fffd2e751bd1c4d706f27375911949ba6bb62e1c"
   }
  },
  "widgets": {
   "application/vnd.jupyter.widget-state+json": {
    "state": {},
    "version_major": 2,
    "version_minor": 0
   }
  }
 },
 "nbformat": 4,
 "nbformat_minor": 4
}
